{
 "cells": [
  {
   "cell_type": "code",
   "execution_count": 1,
   "id": "f315caf9",
   "metadata": {},
   "outputs": [],
   "source": [
    "from extraction.keywordsExtraction import KeywordsExtractor"
   ]
  },
  {
   "cell_type": "code",
   "execution_count": 2,
   "id": "5bd2d7c5",
   "metadata": {},
   "outputs": [],
   "source": [
    "text = \"\"\"\n",
    "Sztuczna inteligencja to dziedzina informatyki zajmująca się tworzeniem \n",
    "systemów komputerowych zdolnych do wykonywania zadań, które normalnie \n",
    "wymagałyby ludzkiej inteligencji. Obejmuje to uczenie maszynowe, \n",
    "przetwarzanie języka naturalnego, rozpoznawanie wzorców i robotykę.\n",
    "\"\"\""
   ]
  },
  {
   "cell_type": "code",
   "execution_count": 3,
   "id": "76c4b299",
   "metadata": {},
   "outputs": [
    {
     "name": "stdout",
     "output_type": "stream",
     "text": [
      "Wyekstraktowane słowa kluczowe:\n",
      "- artificial: 0.455\n",
      "- intelligence: 0.435\n",
      "- robotics: 0.408\n",
      "- computer: 0.292\n",
      "- machine: 0.287\n",
      "- processing: 0.279\n",
      "- learning: 0.272\n",
      "- recognition: 0.270\n",
      "- science: 0.248\n",
      "- systems: 0.243\n"
     ]
    }
   ],
   "source": [
    "extractor = KeywordsExtractor(text)\n",
    "\n",
    "keywords = extractor.get_keywords(num_keywords=10)\n",
    "\n",
    "print(\"Wyekstraktowane słowa kluczowe:\")\n",
    "for keyword, score in keywords:\n",
    "    print(f\"- {keyword}: {score:.3f}\")\n"
   ]
  },
  {
   "cell_type": "code",
   "execution_count": 4,
   "id": "9b8d4e4b",
   "metadata": {},
   "outputs": [],
   "source": [
    "from apiIntegration import arxiveAPI"
   ]
  },
  {
   "cell_type": "code",
   "execution_count": 5,
   "id": "d713cf2e",
   "metadata": {},
   "outputs": [
    {
     "name": "stdout",
     "output_type": "stream",
     "text": [
      "Słowa kluczowe do wyszukiwania: ['artificial', 'intelligence', 'robotics', 'computer', 'machine', 'processing', 'learning', 'recognition', 'science', 'systems']\n"
     ]
    }
   ],
   "source": [
    "# Wyciągnij same słowa kluczowe z tupli (keyword, score)\n",
    "keyword_list = [keyword for keyword, score in keywords]\n",
    "print(\"Słowa kluczowe do wyszukiwania:\", keyword_list)\n",
    "\n",
    "# Teraz użyj poprawnego parametru keyword_list\n",
    "api = arxiveAPI.ArxivAPI(keyword_list=keyword_list, max_results=5)"
   ]
  },
  {
   "cell_type": "code",
   "execution_count": null,
   "id": "218807f0",
   "metadata": {},
   "outputs": [],
   "source": [
    "from icecream import ic"
   ]
  },
  {
   "cell_type": "code",
   "execution_count": 8,
   "id": "31910c3e",
   "metadata": {},
   "outputs": [
    {
     "ename": "TypeError",
     "evalue": "'module' object is not callable",
     "output_type": "error",
     "traceback": [
      "\u001b[31m---------------------------------------------------------------------------\u001b[39m",
      "\u001b[31mTypeError\u001b[39m                                 Traceback (most recent call last)",
      "\u001b[36mCell\u001b[39m\u001b[36m \u001b[39m\u001b[32mIn[8]\u001b[39m\u001b[32m, line 1\u001b[39m\n\u001b[32m----> \u001b[39m\u001b[32m1\u001b[39m \u001b[43mic\u001b[49m\u001b[43m(\u001b[49m\u001b[43mapi\u001b[49m\u001b[43m.\u001b[49m\u001b[43msearch\u001b[49m\u001b[43m(\u001b[49m\u001b[43m)\u001b[49m\u001b[43m)\u001b[49m\n",
      "\u001b[31mTypeError\u001b[39m: 'module' object is not callable"
     ]
    }
   ],
   "source": [
    "ic(api.search())"
   ]
  }
 ],
 "metadata": {
  "kernelspec": {
   "display_name": "AIDev",
   "language": "python",
   "name": "python3"
  },
  "language_info": {
   "codemirror_mode": {
    "name": "ipython",
    "version": 3
   },
   "file_extension": ".py",
   "mimetype": "text/x-python",
   "name": "python",
   "nbconvert_exporter": "python",
   "pygments_lexer": "ipython3",
   "version": "3.12.11"
  }
 },
 "nbformat": 4,
 "nbformat_minor": 5
}
