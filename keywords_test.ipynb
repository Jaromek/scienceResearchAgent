{
 "cells": [
  {
   "cell_type": "code",
   "execution_count": null,
   "id": "17792f23",
   "metadata": {},
   "outputs": [
    {
     "name": "stderr",
     "output_type": "stream",
     "text": [
      "2025-07-19 18:54:24.505946: I tensorflow/core/util/port.cc:153] oneDNN custom operations are on. You may see slightly different numerical results due to floating-point round-off errors from different computation orders. To turn them off, set the environment variable `TF_ENABLE_ONEDNN_OPTS=0`.\n",
      "2025-07-19 18:54:24.512222: E external/local_xla/xla/stream_executor/cuda/cuda_fft.cc:467] Unable to register cuFFT factory: Attempting to register factory for plugin cuFFT when one has already been registered\n",
      "WARNING: All log messages before absl::InitializeLog() is called are written to STDERR\n",
      "E0000 00:00:1752944064.519114  556654 cuda_dnn.cc:8579] Unable to register cuDNN factory: Attempting to register factory for plugin cuDNN when one has already been registered\n",
      "E0000 00:00:1752944064.521463  556654 cuda_blas.cc:1407] Unable to register cuBLAS factory: Attempting to register factory for plugin cuBLAS when one has already been registered\n",
      "W0000 00:00:1752944064.527497  556654 computation_placer.cc:177] computation placer already registered. Please check linkage and avoid linking the same target more than once.\n",
      "W0000 00:00:1752944064.527508  556654 computation_placer.cc:177] computation placer already registered. Please check linkage and avoid linking the same target more than once.\n",
      "W0000 00:00:1752944064.527509  556654 computation_placer.cc:177] computation placer already registered. Please check linkage and avoid linking the same target more than once.\n",
      "W0000 00:00:1752944064.527509  556654 computation_placer.cc:177] computation placer already registered. Please check linkage and avoid linking the same target more than once.\n",
      "2025-07-19 18:54:24.529503: I tensorflow/core/platform/cpu_feature_guard.cc:210] This TensorFlow binary is optimized to use available CPU instructions in performance-critical operations.\n",
      "To enable the following instructions: AVX2 AVX512F AVX512_VNNI AVX512_BF16 AVX_VNNI FMA, in other operations, rebuild TensorFlow with the appropriate compiler flags.\n"
     ]
    },
    {
     "ename": "ModuleNotFoundError",
     "evalue": "No module named 'pdfminer.converter'",
     "output_type": "error",
     "traceback": [
      "\u001b[31m---------------------------------------------------------------------------\u001b[39m",
      "\u001b[31mModuleNotFoundError\u001b[39m                       Traceback (most recent call last)",
      "\u001b[36mCell\u001b[39m\u001b[36m \u001b[39m\u001b[32mIn[1]\u001b[39m\u001b[32m, line 4\u001b[39m\n\u001b[32m      2\u001b[39m \u001b[38;5;28;01mfrom\u001b[39;00m\u001b[38;5;250m \u001b[39m\u001b[34;01mapiIntegration\u001b[39;00m\u001b[34;01m.\u001b[39;00m\u001b[34;01marxiveAPI\u001b[39;00m\u001b[38;5;250m \u001b[39m\u001b[38;5;28;01mimport\u001b[39;00m ArxivAPI\n\u001b[32m      3\u001b[39m \u001b[38;5;28;01mfrom\u001b[39;00m\u001b[38;5;250m \u001b[39m\u001b[34;01membedding\u001b[39;00m\u001b[34;01m.\u001b[39;00m\u001b[34;01membeddingArticle\u001b[39;00m\u001b[38;5;250m \u001b[39m\u001b[38;5;28;01mimport\u001b[39;00m EmbeddingArticle\n\u001b[32m----> \u001b[39m\u001b[32m4\u001b[39m \u001b[38;5;28;01mfrom\u001b[39;00m\u001b[38;5;250m \u001b[39m\u001b[34;01mpdfToText\u001b[39;00m\u001b[34;01m.\u001b[39;00m\u001b[34;01mpdfToText\u001b[39;00m\u001b[38;5;250m \u001b[39m\u001b[38;5;28;01mimport\u001b[39;00m PDFToText\n",
      "\u001b[36mFile \u001b[39m\u001b[32m~/Programming/Repos/researchAgent/pdfToText/pdfToText.py:1\u001b[39m\n\u001b[32m----> \u001b[39m\u001b[32m1\u001b[39m \u001b[38;5;28;01mfrom\u001b[39;00m\u001b[38;5;250m \u001b[39m\u001b[34;01mpdfminer\u001b[39;00m\u001b[34;01m.\u001b[39;00m\u001b[34;01mhigh_level\u001b[39;00m\u001b[38;5;250m \u001b[39m\u001b[38;5;28;01mimport\u001b[39;00m extract_text\n\u001b[32m      2\u001b[39m \u001b[38;5;28;01mfrom\u001b[39;00m\u001b[38;5;250m \u001b[39m\u001b[34;01mtyping\u001b[39;00m\u001b[38;5;250m \u001b[39m\u001b[38;5;28;01mimport\u001b[39;00m List\n\u001b[32m      4\u001b[39m \u001b[38;5;28;01mclass\u001b[39;00m\u001b[38;5;250m \u001b[39m\u001b[34;01mPDFToText\u001b[39;00m:\n",
      "\u001b[36mFile \u001b[39m\u001b[32m~/Programming/miniconda3/envs/AIDev/lib/python3.12/site-packages/pdfminer/high_level.py:8\u001b[39m\n\u001b[32m      5\u001b[39m \u001b[38;5;28;01mfrom\u001b[39;00m\u001b[38;5;250m \u001b[39m\u001b[34;01mio\u001b[39;00m\u001b[38;5;250m \u001b[39m\u001b[38;5;28;01mimport\u001b[39;00m StringIO\n\u001b[32m      6\u001b[39m \u001b[38;5;28;01mfrom\u001b[39;00m\u001b[38;5;250m \u001b[39m\u001b[34;01mtyping\u001b[39;00m\u001b[38;5;250m \u001b[39m\u001b[38;5;28;01mimport\u001b[39;00m Any, BinaryIO, Container, Iterator, Optional, cast\n\u001b[32m----> \u001b[39m\u001b[32m8\u001b[39m \u001b[38;5;28;01mfrom\u001b[39;00m\u001b[38;5;250m \u001b[39m\u001b[34;01mpdfminer\u001b[39;00m\u001b[34;01m.\u001b[39;00m\u001b[34;01mconverter\u001b[39;00m\u001b[38;5;250m \u001b[39m\u001b[38;5;28;01mimport\u001b[39;00m (\n\u001b[32m      9\u001b[39m     HOCRConverter,\n\u001b[32m     10\u001b[39m     HTMLConverter,\n\u001b[32m     11\u001b[39m     PDFPageAggregator,\n\u001b[32m     12\u001b[39m     TextConverter,\n\u001b[32m     13\u001b[39m     XMLConverter,\n\u001b[32m     14\u001b[39m )\n\u001b[32m     15\u001b[39m \u001b[38;5;28;01mfrom\u001b[39;00m\u001b[38;5;250m \u001b[39m\u001b[34;01mpdfminer\u001b[39;00m\u001b[34;01m.\u001b[39;00m\u001b[34;01mimage\u001b[39;00m\u001b[38;5;250m \u001b[39m\u001b[38;5;28;01mimport\u001b[39;00m ImageWriter\n\u001b[32m     16\u001b[39m \u001b[38;5;28;01mfrom\u001b[39;00m\u001b[38;5;250m \u001b[39m\u001b[34;01mpdfminer\u001b[39;00m\u001b[34;01m.\u001b[39;00m\u001b[34;01mlayout\u001b[39;00m\u001b[38;5;250m \u001b[39m\u001b[38;5;28;01mimport\u001b[39;00m LAParams, LTPage\n",
      "\u001b[31mModuleNotFoundError\u001b[39m: No module named 'pdfminer.converter'"
     ]
    }
   ],
   "source": [
    "from extraction.keywordsExtraction import KeywordsExtractor\n",
    "from apiIntegration.arxiveAPI import ArxivAPI\n",
    "from embedding.embeddingArticle import EmbeddingArticle\n",
    "from pdfToText.pdfToText import PDFToText\n"
   ]
  },
  {
   "cell_type": "code",
   "execution_count": null,
   "id": "816876f2",
   "metadata": {},
   "outputs": [],
   "source": [
    "text = 'Jak w badaniu czarnych dziur oraz przestrzeni kosmicznej pomaga sztuczna inteligencja?'"
   ]
  },
  {
   "cell_type": "code",
   "execution_count": null,
   "id": "2b6f237b",
   "metadata": {},
   "outputs": [],
   "source": [
    "keywords = KeywordsExtractor(text=text).get_keywords()"
   ]
  },
  {
   "cell_type": "code",
   "execution_count": null,
   "id": "ca45fdaf",
   "metadata": {},
   "outputs": [
    {
     "name": "stdout",
     "output_type": "stream",
     "text": [
      "Extracted Keywords: ('holes', 'intelligence', 'study', 'artificial', 'black')\n"
     ]
    }
   ],
   "source": [
    "print(\"Extracted Keywords:\", keywords)"
   ]
  },
  {
   "cell_type": "code",
   "execution_count": null,
   "id": "d59c35df",
   "metadata": {},
   "outputs": [],
   "source": [
    "# Extract only the keyword strings from the tuples\n",
    "download_articles = ArxivAPI(keyword_list=keywords, max_results=3, download_directory='archive').search()"
   ]
  },
  {
   "cell_type": "code",
   "execution_count": null,
   "id": "7fc87b14",
   "metadata": {},
   "outputs": [
    {
     "name": "stdout",
     "output_type": "stream",
     "text": [
      "downloaded articles: [{'title': 'Perturbations of the Kerr black hole in the class of axisymmetric artificial black holes', 'summary': 'Artificial black holes (called also acoustic or optical black holes) are the\\nblack holes for the linear wave equation describing the wave propagation in a\\nmoving medium. They attracted a considerable interest of physicists who study\\nthem to better understand the black holes in general relativity. We consider\\nthe case of stationary axisymmetric metrics and we show that the Kerr black\\nhole is not stable under perturbations in the class of all axisymmetric\\nmetrics. We describe families of axisymmetric metrics having black holes that\\nare the perturbations of the Kerr black hole. We also show that the ergosphere\\ncan be determined by boundary measurements and we prove the uniform boundness\\nof the solution in the exterior of the black hole when the event horizon\\ncoincides with the ergosphere.', 'authors': ['Gregory Eskin'], 'published': datetime.datetime(2009, 5, 26, 7, 41, 23, tzinfo=datetime.timezone.utc), 'arxiv_id': 'http://arxiv.org/abs/0905.4129v3'}, {'title': 'Artificial black holes', 'summary': \"We study black holes for the linear hyperbolic equations describing the wave\\npropagation in the moving medium. Such black holes are called artificial since\\nthe Lorentz metric associated with the hyperbolic equation does not necessary\\nsatisfies the Einstein equations. Artificial black holes also arise when we\\nconsider perturbations of the Einstein equations. In this paper we review\\nauthor's results of [E2] and [E3] on the existence and the stability of black\\nholes for the stationary wave equations in two space dimensions, and in the\\naxisymmetric case.\", 'authors': ['Gregory Eskin'], 'published': datetime.datetime(2011, 5, 10, 18, 44, 22, tzinfo=datetime.timezone.utc), 'arxiv_id': 'http://arxiv.org/abs/1105.2015v1'}, {'title': 'Autoencoding Labeled Interpolator, Inferring Parameters From Image, And Image From Parameters', 'summary': 'The Event Horizon Telescope (EHT) provides an avenue to study black hole\\naccretion flows on event-horizon scales. Fitting a semi-analytical model to EHT\\nobservations requires the construction of synthetic images, which is\\ncomputationally expensive. This study presents an image generation tool in the\\nform of a generative machine learning model, which extends the capabilities of\\na variational autoencoder. This tool can rapidly and continuously interpolate\\nbetween a training set of images and can retrieve the defining parameters of\\nthose images. Trained on a set of synthetic black hole images, our tool\\nshowcases success in both interpolating black hole images and their associated\\nphysical parameters. By reducing the computational cost of generating an image,\\nthis tool facilitates parameter estimation and model validation for\\nobservations of black hole system.', 'authors': ['Ali SaraerToosi', 'Avery Broderick'], 'published': datetime.datetime(2023, 12, 7, 19, 0, 50, tzinfo=datetime.timezone.utc), 'arxiv_id': 'http://arxiv.org/abs/2312.04640v1'}]\n"
     ]
    }
   ],
   "source": [
    "print(\"downloaded articles:\", download_articles)"
   ]
  },
  {
   "cell_type": "code",
   "execution_count": null,
   "id": "e22d655b",
   "metadata": {},
   "outputs": [],
   "source": [
    "articles = PDFToText(pdf_path='archive').convert_to_text()"
   ]
  },
  {
   "cell_type": "code",
   "execution_count": null,
   "id": "8fe18f0e",
   "metadata": {},
   "outputs": [],
   "source": [
    "EmbeddingArticle"
   ]
  }
 ],
 "metadata": {
  "kernelspec": {
   "display_name": "AIDev",
   "language": "python",
   "name": "python3"
  },
  "language_info": {
   "codemirror_mode": {
    "name": "ipython",
    "version": 3
   },
   "file_extension": ".py",
   "mimetype": "text/x-python",
   "name": "python",
   "nbconvert_exporter": "python",
   "pygments_lexer": "ipython3",
   "version": "3.12.11"
  }
 },
 "nbformat": 4,
 "nbformat_minor": 5
}
