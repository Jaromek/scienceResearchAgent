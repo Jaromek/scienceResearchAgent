{
 "cells": [
  {
   "cell_type": "code",
   "execution_count": 1,
   "id": "f315caf9",
   "metadata": {},
   "outputs": [],
   "source": [
    "from extraction.keywordsExtraction import KeywordsExtractor"
   ]
  },
  {
   "cell_type": "code",
   "execution_count": 2,
   "id": "5bd2d7c5",
   "metadata": {},
   "outputs": [],
   "source": [
    "text = \"\"\"\n",
    "jakie są sposoby na badania czarnych dziur przy użyciu sztucznej inteligencji\n",
    "\"\"\""
   ]
  },
  {
   "cell_type": "code",
   "execution_count": 3,
   "id": "76c4b299",
   "metadata": {},
   "outputs": [
    {
     "name": "stdout",
     "output_type": "stream",
     "text": [
      "Wyekstraktowane słowa kluczowe:\n",
      "- study: 0.329\n",
      "- ways: 0.295\n",
      "- holes: 0.286\n",
      "- intelligence: 0.241\n",
      "- artificial: 0.207\n",
      "- black: 0.142\n",
      "- using: 0.138\n"
     ]
    }
   ],
   "source": [
    "extractor = KeywordsExtractor(text)\n",
    "\n",
    "keywords = extractor.get_keywords(num_keywords=10)\n",
    "\n",
    "print(\"Wyekstraktowane słowa kluczowe:\")\n",
    "for keyword, score in keywords:\n",
    "    print(f\"- {keyword}: {score:.3f}\")\n"
   ]
  },
  {
   "cell_type": "code",
   "execution_count": 4,
   "id": "9b8d4e4b",
   "metadata": {},
   "outputs": [],
   "source": [
    "from apiIntegration import arxiveAPI"
   ]
  },
  {
   "cell_type": "code",
   "execution_count": 5,
   "id": "d713cf2e",
   "metadata": {},
   "outputs": [
    {
     "name": "stdout",
     "output_type": "stream",
     "text": [
      "Słowa kluczowe do wyszukiwania: ['study', 'ways', 'holes', 'intelligence', 'artificial', 'black', 'using']\n"
     ]
    }
   ],
   "source": [
    "# Wyciągnij same słowa kluczowe z tupli (keyword, score)\n",
    "keyword_list = [keyword for keyword, score in keywords]\n",
    "print(\"Słowa kluczowe do wyszukiwania:\", keyword_list)\n",
    "\n",
    "# Teraz użyj poprawnego parametru keyword_list\n",
    "api = arxiveAPI.ArxivAPI(keyword_list=keyword_list, max_results=20)"
   ]
  },
  {
   "cell_type": "code",
   "execution_count": 6,
   "id": "31910c3e",
   "metadata": {},
   "outputs": [
    {
     "name": "stdout",
     "output_type": "stream",
     "text": [
      "Znaleziono 20 artykułów:\n",
      "\n",
      "\n",
      "=== ALTERNATYWNY SPOSÓB WYŚWIETLANIA ===\n",
      "1. In Search of Extraterrestrial Artificial Intelligence Through Dyson Sphere-like structures around Primordial Black Holes\n",
      "   Autorzy: Shant Baghram\n",
      "   Data publikacji: 2024-12-03 18:45:18+00:00\n",
      "   Abstrakt: Are we alone? It is a compelling question that human beings have confronted\n",
      "for centuries. The searc...\n",
      "   ArXiv ID: http://arxiv.org/abs/2412.02671v2\n",
      "\n",
      "2. Two Gaussian Approaches to Black-Box Optomization\n",
      "   Autorzy: Lukáš Bajer, Martin Holeňa\n",
      "   Data publikacji: 2014-11-28 10:39:24+00:00\n",
      "   Abstrakt: Outline of several strategies for using Gaussian processes as surrogate\n",
      "models for the covariance ma...\n",
      "   ArXiv ID: http://arxiv.org/abs/1411.7806v1\n",
      "\n",
      "3. Black Hole Shadow as a Test of General Relativity: Quadratic Gravity\n",
      "   Autorzy: Dimitry Ayzenberg, Nicolas Yunes\n",
      "   Data publikacji: 2018-07-23 03:51:18+00:00\n",
      "   Abstrakt: Observations of the black hole shadow of supermassive black holes, such as\n",
      "Sagittarius A* at the cen...\n",
      "   ArXiv ID: http://arxiv.org/abs/1807.08422v1\n",
      "\n",
      "4. A YANG-aided Unified Strategy for Black Hole Detection for Backbone Networks\n",
      "   Autorzy: Elif Ak, Kiymet Kaya, Eren Ozaltun, Sule Gunduz Oguducu, Berk Canberk\n",
      "   Data publikacji: 2024-02-01 18:17:37+00:00\n",
      "   Abstrakt: Despite the crucial importance of addressing Black Hole failures in Internet\n",
      "backbone networks, effe...\n",
      "   ArXiv ID: http://arxiv.org/abs/2402.00831v1\n",
      "\n",
      "5. Deformations of anti-de Sitter black holes\n",
      "   Autorzy: Stephane Detournay\n",
      "   Data publikacji: 2006-11-02 14:02:49+00:00\n",
      "   Abstrakt: This PhD thesis mainly deals with deformations of locally anti-de Sitter\n",
      "black holes, focusing in pa...\n",
      "   ArXiv ID: http://arxiv.org/abs/hep-th/0611031v1\n",
      "\n",
      "6. Does the Schwarzschild black hole really exist?\n",
      "   Autorzy: Guihua Tian\n",
      "   Data publikacji: 2005-11-22 11:00:28+00:00\n",
      "   Abstrakt: We use the Kruskal time coordinate T to define the initial time. By this way,\n",
      "it naturally divides t...\n",
      "   ArXiv ID: http://arxiv.org/abs/gr-qc/0511121v1\n",
      "\n",
      "7. Lorentz violation and noncommutative effect on superradiance scattering off Kerr-like black hole and on the shadow of it\n",
      "   Autorzy: Sohan Kumar Jha, Anisur Rahaman\n",
      "   Data publikacji: 2021-11-04 12:35:29+00:00\n",
      "   Abstrakt: We consider a Lorentz violating non-commutating Kerr-like spacetime and\n",
      "studied the superradiance ef...\n",
      "   ArXiv ID: http://arxiv.org/abs/2111.02817v3\n",
      "\n",
      "8. Black Hole Growth from Cosmological N-body Simulations\n",
      "   Autorzy: Miroslav Micic, Kelly Holley-Bockelmann, Steinn Sigurdsson\n",
      "   Data publikacji: 2008-05-20 20:00:04+00:00\n",
      "   Abstrakt: (Abridged) We use high resolution cosmological N-body simulations to study\n",
      "the growth of intermediat...\n",
      "   ArXiv ID: http://arxiv.org/abs/0805.3154v1\n",
      "\n",
      "9. A note on electromagnetic and gravitational perturbations of the Bardeen de Sitter black hole: quasinormal modes and greybody factors\n",
      "   Autorzy: Sahel Dey, Sayan Chakrabarti\n",
      "   Data publikacji: 2018-07-24 12:28:09+00:00\n",
      "   Abstrakt: Bardeen de-Sitter (BdS) black hole is a spherically symmetric solution of\n",
      "Einstein's equation which ...\n",
      "   ArXiv ID: http://arxiv.org/abs/1807.09065v3\n",
      "\n",
      "10. Probing the Purely Ingoing Nature of the Black-hole Event Horizon\n",
      "   Autorzy: Ka-Wai Chung, Tjonnie Guang Feng Li\n",
      "   Data publikacji: 2019-12-15 15:29:49+00:00\n",
      "   Abstrakt: One of the most fundamental results of general relativity is that the event\n",
      "horizon of black hole is...\n",
      "   ArXiv ID: http://arxiv.org/abs/1912.07058v2\n",
      "\n",
      "11. Holographic duals of evaporating black holes\n",
      "   Autorzy: Roberto Emparan, Raimon Luna, Ryotaku Suzuki, Marija Tomašević, Benson Way\n",
      "   Data publikacji: 2023-01-06 16:34:28+00:00\n",
      "   Abstrakt: We describe the dynamical evaporation of a black hole as the classical\n",
      "evolution in time of a black ...\n",
      "   ArXiv ID: http://arxiv.org/abs/2301.02587v3\n",
      "\n",
      "12. On Black Hole Thermodynamics, Singularity, and Gravitational Entropy\n",
      "   Autorzy: Yen Chin Ong\n",
      "   Data publikacji: 2022-10-30 14:46:21+00:00\n",
      "   Abstrakt: Many fundamental issues remain for black hole thermodynamics after almost\n",
      "half a century of its conc...\n",
      "   ArXiv ID: http://arxiv.org/abs/2210.16856v1\n",
      "\n",
      "13. Binary Black Hole Information Loss Paradox & Future Prospects\n",
      "   Autorzy: Ayan Mitra, Pritam Chattopadhyay, Goutam Paul, Vasilios Zarikas\n",
      "   Data publikacji: 2020-04-09 17:26:26+00:00\n",
      "   Abstrakt: Various techniques to tackle the black hole information paradox have been\n",
      "proposed. A new way out to...\n",
      "   ArXiv ID: http://arxiv.org/abs/2004.04695v4\n",
      "\n",
      "14. Searching for Exoplanets Around X-Ray Binaries with Accreting White Dwarfs, Neutron Stars, and Black Holes\n",
      "   Autorzy: Nia Imara, Rosanne Di Stefano\n",
      "   Data publikacji: 2017-03-16 18:00:00+00:00\n",
      "   Abstrakt: We recommend that the search for exoplanets around binary stars be extended\n",
      "to include X-ray binarie...\n",
      "   ArXiv ID: http://arxiv.org/abs/1703.05762v2\n",
      "\n",
      "15. Astrophysical Signatures of Black holes in Generalized Proca Theories\n",
      "   Autorzy: Mostafizur Rahman, Anjan A. Sen\n",
      "   Data publikacji: 2018-10-22 12:15:18+00:00\n",
      "   Abstrakt: Explaining the late time acceleration is one of the most challenging tasks\n",
      "for theoretical physicist...\n",
      "   ArXiv ID: http://arxiv.org/abs/1810.09200v2\n",
      "\n",
      "16. Phase transition of modified Horndeski gravity with new method\n",
      "   Autorzy: M. Rostami, J. Sadeghi, S. Miraboutalebi, B. Pourhassan, A. A. Masoudi\n",
      "   Data publikacji: 2019-09-02 18:53:39+00:00\n",
      "   Abstrakt: In this paper, we investigate the critical points of the $ P-V $ diagram and\n",
      "the phase transitions o...\n",
      "   ArXiv ID: http://arxiv.org/abs/1909.01799v1\n",
      "\n",
      "17. Black Hole Space-time In Dark Matter Halo\n",
      "   Autorzy: Zhaoyi Xu, Xian Hou, Xiaobo Gong, Jiancheng Wang\n",
      "   Data publikacji: 2018-03-02 09:15:45+00:00\n",
      "   Abstrakt: For the first time, we obtain the analytical form of black hole space-time\n",
      "metric in dark matter hal...\n",
      "   ArXiv ID: http://arxiv.org/abs/1803.00767v2\n",
      "\n",
      "18. The Head-On Collision of Two Equal Mass Black Holes Peter Anninos\n",
      "   Autorzy: David Hobill, Edward Seidel, Larry Smarr, Wai-Mo Suen\n",
      "   Data publikacji: 1994-08-31 23:36:17+00:00\n",
      "   Abstrakt: We study the head-on collision of two equal mass, nonrotating black holes.\n",
      "Various initial configura...\n",
      "   ArXiv ID: http://arxiv.org/abs/gr-qc/9408041v1\n",
      "\n",
      "19. Resolving the information loss paradox from the five-dimensional minimal supergravity black hole\n",
      "   Autorzy: Behnam Pourhassan\n",
      "   Data publikacji: 2022-02-26 05:42:11+00:00\n",
      "   Abstrakt: In this paper, we study the Hawking tunneling radiation of the charged\n",
      "rotating black hole in five-d...\n",
      "   ArXiv ID: http://arxiv.org/abs/2203.00424v1\n",
      "\n",
      "20. Measuring the binary black hole mass spectrum with an astrophysically motivated parameterization\n",
      "   Autorzy: Colm Talbot, Eric Thrane\n",
      "   Data publikacji: 2018-01-08 21:58:49+00:00\n",
      "   Abstrakt: Gravitational-wave detections have revealed a previously unknown population\n",
      "of stellar mass black ho...\n",
      "   ArXiv ID: http://arxiv.org/abs/1801.02699v3\n",
      "\n"
     ]
    }
   ],
   "source": [
    "results = api.search()\n",
    "\n",
    "print(f\"Znaleziono {len(results)} artykułów:\\n\")\n",
    "\n",
    "# Sposób 2: Alternatywny sposób wypisywania - tylko wybrane pola\n",
    "print(\"\\n=== ALTERNATYWNY SPOSÓB WYŚWIETLANIA ===\")\n",
    "for i, result in enumerate(results, 1):\n",
    "    print(f\"{i}. {result['title']}\")\n",
    "    print(f\"   Autorzy: {', '.join(result['authors'])}\")\n",
    "    print(f\"   Data publikacji: {result['published']}\")\n",
    "    print(f\"   Abstrakt: {result['summary'][:100]}...\") \n",
    "    print(f\"   ArXiv ID: {result['arxiv_id']}\")\n",
    "    print()"
   ]
  },
  {
   "cell_type": "code",
   "execution_count": 7,
   "id": "2e15b865",
   "metadata": {},
   "outputs": [],
   "source": [
    "from embedding import embeddingArticle"
   ]
  },
  {
   "cell_type": "code",
   "execution_count": null,
   "id": "a977e266",
   "metadata": {},
   "outputs": [
    {
     "name": "stdout",
     "output_type": "stream",
     "text": [
      "Tekst do embeddingu: \n",
      "jakie są sposoby na badania czarnych dziur przy użyciu sztucznej inteligencji\n",
      "...\n",
      "Model: all-MiniLM-L6-v2\n"
     ]
    }
   ],
   "source": [
    "embedding = embeddingArticle.EmbeddingArticle(text=text)\n",
    "\n",
    "print(f\"Tekst do embeddingu: {text[:100]}...\")\n",
    "print(f\"Model: {embedding.model_name}\")"
   ]
  },
  {
   "cell_type": "code",
   "execution_count": 12,
   "id": "a34e6c71",
   "metadata": {},
   "outputs": [
    {
     "name": "stdout",
     "output_type": "stream",
     "text": [
      "=== Tekst z konstruktora ===\n",
      "Kształt embeddingu: torch.Size([384])\n",
      "Typ: <class 'torch.Tensor'>\n"
     ]
    }
   ],
   "source": [
    "print(\"=== Tekst z konstruktora ===\")\n",
    "embedding_result = embedding.embed()\n",
    "print(f\"Kształt embeddingu: {embedding_result.shape}\")\n",
    "print(f\"Typ: {type(embedding_result)}\")\n"
   ]
  }
 ],
 "metadata": {
  "kernelspec": {
   "display_name": "AIDev",
   "language": "python",
   "name": "python3"
  },
  "language_info": {
   "codemirror_mode": {
    "name": "ipython",
    "version": 3
   },
   "file_extension": ".py",
   "mimetype": "text/x-python",
   "name": "python",
   "nbconvert_exporter": "python",
   "pygments_lexer": "ipython3",
   "version": "3.12.11"
  }
 },
 "nbformat": 4,
 "nbformat_minor": 5
}
